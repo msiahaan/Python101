{
 "cells": [
  {
   "cell_type": "markdown",
   "id": "b691e613-17d6-4b6b-bb8d-3bdce4db0a5f",
   "metadata": {},
   "source": [
    "# Python 101 Workshop"
   ]
  },
  {
   "cell_type": "markdown",
   "id": "b07f0c03-7994-4c4e-9758-6a37e0c6fc21",
   "metadata": {},
   "source": [
    "## Python sebagai Kalkulator"
   ]
  },
  {
   "cell_type": "code",
   "execution_count": 2,
   "id": "1b93c17d-1c83-4c42-a07f-7a87e3274573",
   "metadata": {},
   "outputs": [
    {
     "data": {
      "text/plain": [
       "4"
      ]
     },
     "execution_count": 2,
     "metadata": {},
     "output_type": "execute_result"
    }
   ],
   "source": [
    " 2 + 2"
   ]
  },
  {
   "cell_type": "code",
   "execution_count": 3,
   "id": "fd9363a5-6061-4daa-86a5-c04cb5853189",
   "metadata": {},
   "outputs": [
    {
     "data": {
      "text/plain": [
       "11"
      ]
     },
     "execution_count": 3,
     "metadata": {},
     "output_type": "execute_result"
    }
   ],
   "source": [
    "2  + 5 * 2 - 1"
   ]
  },
  {
   "cell_type": "code",
   "execution_count": 4,
   "id": "e57af38c-d11e-4ce1-8de2-7ce67ff65828",
   "metadata": {},
   "outputs": [
    {
     "data": {
      "text/plain": [
       "13"
      ]
     },
     "execution_count": 4,
     "metadata": {},
     "output_type": "execute_result"
    }
   ],
   "source": [
    "(2 + 5) * 2 - 1"
   ]
  },
  {
   "cell_type": "code",
   "execution_count": 5,
   "id": "dc1ea465-6ee8-43b2-b99e-a9f4d5e30426",
   "metadata": {},
   "outputs": [
    {
     "data": {
      "text/plain": [
       "5.666666666666667"
      ]
     },
     "execution_count": 5,
     "metadata": {},
     "output_type": "execute_result"
    }
   ],
   "source": [
    "17 / 3"
   ]
  },
  {
   "cell_type": "code",
   "execution_count": 6,
   "id": "d6ca54c3-af36-46c0-9db0-1c4e632c155c",
   "metadata": {},
   "outputs": [
    {
     "data": {
      "text/plain": [
       "2"
      ]
     },
     "execution_count": 6,
     "metadata": {},
     "output_type": "execute_result"
    }
   ],
   "source": [
    "17 % 3"
   ]
  },
  {
   "cell_type": "code",
   "execution_count": 7,
   "id": "e2bd1e33-475a-4536-bd5a-159522b625b0",
   "metadata": {},
   "outputs": [
    {
     "data": {
      "text/plain": [
       "25"
      ]
     },
     "execution_count": 7,
     "metadata": {},
     "output_type": "execute_result"
    }
   ],
   "source": [
    "5 ** 2"
   ]
  },
  {
   "cell_type": "markdown",
   "id": "50d78e1e-8808-4663-856f-f2d2f3d80b55",
   "metadata": {},
   "source": [
    "## Variabel"
   ]
  },
  {
   "cell_type": "code",
   "execution_count": 12,
   "id": "d910cf71-9ee2-4aad-999c-93d5ecee3b0f",
   "metadata": {},
   "outputs": [
    {
     "data": {
      "text/plain": [
       "3000.0"
      ]
     },
     "execution_count": 12,
     "metadata": {},
     "output_type": "execute_result"
    }
   ],
   "source": [
    "gaji = 5000\n",
    "rate_pajak = 0.4\n",
    "pajak = gaji * rate_pajak\n",
    "penghasilan = gaji - pajak\n",
    "penghasilan"
   ]
  },
  {
   "cell_type": "code",
   "execution_count": 13,
   "id": "4b6eb4a2-bfa9-4a0a-a5b3-5fdb87e07c28",
   "metadata": {},
   "outputs": [
    {
     "data": {
      "text/plain": [
       "19.625"
      ]
     },
     "execution_count": 13,
     "metadata": {},
     "output_type": "execute_result"
    }
   ],
   "source": [
    "# mencari luas dan keliling lingkaran\n",
    "diameter = 5\n",
    "luas = 3.14 / 4 * diameter ** 2\n",
    "luas"
   ]
  },
  {
   "cell_type": "code",
   "execution_count": 14,
   "id": "d3385690-4f40-4270-8f95-a19165ab75d3",
   "metadata": {},
   "outputs": [
    {
     "data": {
      "text/plain": [
       "15.700000000000001"
      ]
     },
     "execution_count": 14,
     "metadata": {},
     "output_type": "execute_result"
    }
   ],
   "source": [
    "keliling = 2 * 3.14 * diameter / 2\n",
    "keliling"
   ]
  },
  {
   "cell_type": "markdown",
   "id": "3b9262fc-3442-4c7c-b276-9149be6e2039",
   "metadata": {},
   "source": [
    "## Teks"
   ]
  },
  {
   "cell_type": "code",
   "execution_count": 18,
   "id": "11d4259d-5062-405a-afcc-64a2cf1cfde5",
   "metadata": {},
   "outputs": [
    {
     "data": {
      "text/plain": [
       "'spam eggs'"
      ]
     },
     "execution_count": 18,
     "metadata": {},
     "output_type": "execute_result"
    }
   ],
   "source": [
    "'spam eggs'"
   ]
  },
  {
   "cell_type": "code",
   "execution_count": 19,
   "id": "64f5a285-dd1c-4e65-a060-fc55dbbc2312",
   "metadata": {},
   "outputs": [
    {
     "data": {
      "text/plain": [
       "'Paris rabbit got your back, yay :)'"
      ]
     },
     "execution_count": 19,
     "metadata": {},
     "output_type": "execute_result"
    }
   ],
   "source": [
    "\"Paris rabbit got your back, yay :)\""
   ]
  },
  {
   "cell_type": "code",
   "execution_count": 20,
   "id": "2950b190-dfe5-4547-bb66-2a1f12a80062",
   "metadata": {},
   "outputs": [
    {
     "data": {
      "text/plain": [
       "'1975'"
      ]
     },
     "execution_count": 20,
     "metadata": {},
     "output_type": "execute_result"
    }
   ],
   "source": [
    "'1975'"
   ]
  },
  {
   "cell_type": "code",
   "execution_count": 23,
   "id": "01808dc5-dfd3-40a3-b47b-1725959bb610",
   "metadata": {},
   "outputs": [
    {
     "name": "stdout",
     "output_type": "stream",
     "text": [
      "First line\n",
      "Second line\n"
     ]
    }
   ],
   "source": [
    "print('First line\\nSecond line')"
   ]
  },
  {
   "cell_type": "code",
   "execution_count": 24,
   "id": "8f9d6000-329d-42b6-8748-0d97688ef2d8",
   "metadata": {},
   "outputs": [
    {
     "name": "stdout",
     "output_type": "stream",
     "text": [
      "First line\\nSecond line\n"
     ]
    }
   ],
   "source": [
    "print(r'First line\\nSecond line')"
   ]
  },
  {
   "cell_type": "code",
   "execution_count": 26,
   "id": "b2aedb35-4f3f-4e51-8a55-910855617837",
   "metadata": {},
   "outputs": [
    {
     "name": "stdout",
     "output_type": "stream",
     "text": [
      "\n",
      "Usage: thingy [OPTIONS]\n",
      "     -h                        Display this usage message\n",
      "     -H hostname               Hostname to connect to\n",
      "\n"
     ]
    }
   ],
   "source": [
    "print(\"\"\"\n",
    "Usage: thingy [OPTIONS]\n",
    "     -h                        Display this usage message\n",
    "     -H hostname               Hostname to connect to\n",
    "\"\"\")"
   ]
  },
  {
   "cell_type": "code",
   "execution_count": 27,
   "id": "1a316e94-38bc-4c8d-8a37-a5ec356bf1d4",
   "metadata": {},
   "outputs": [
    {
     "data": {
      "text/plain": [
       "'byebyebyebyebye'"
      ]
     },
     "execution_count": 27,
     "metadata": {},
     "output_type": "execute_result"
    }
   ],
   "source": [
    "'bye' * 5"
   ]
  },
  {
   "cell_type": "code",
   "execution_count": 28,
   "id": "02f7c875-69b0-46fa-bbae-0df22306a10b",
   "metadata": {},
   "outputs": [
    {
     "data": {
      "text/plain": [
       "'Python'"
      ]
     },
     "execution_count": 28,
     "metadata": {},
     "output_type": "execute_result"
    }
   ],
   "source": [
    "'Py' + 'thon'"
   ]
  },
  {
   "cell_type": "markdown",
   "id": "5c5e7c7b-27df-4108-93cb-30ce510ff2fd",
   "metadata": {},
   "source": [
    "## Teks adalah kumpulan huruf/karakter"
   ]
  },
  {
   "cell_type": "code",
   "execution_count": 30,
   "id": "5c86d8da-e5e9-432c-961f-bd60bc4254d9",
   "metadata": {},
   "outputs": [
    {
     "data": {
      "text/plain": [
       "'selamat pagi!'"
      ]
     },
     "execution_count": 30,
     "metadata": {},
     "output_type": "execute_result"
    }
   ],
   "source": [
    "say = 'selamat pagi!'\n",
    "say"
   ]
  },
  {
   "cell_type": "code",
   "execution_count": 31,
   "id": "a45d1f90-bb2e-4105-9b5e-e6233f8c0acf",
   "metadata": {},
   "outputs": [
    {
     "data": {
      "text/plain": [
       "('s', 'e', 'l')"
      ]
     },
     "execution_count": 31,
     "metadata": {},
     "output_type": "execute_result"
    }
   ],
   "source": [
    "say[0], say[1], say[2]"
   ]
  },
  {
   "cell_type": "code",
   "execution_count": 32,
   "id": "40918783-2c3f-4744-9cd1-9784cde0de07",
   "metadata": {},
   "outputs": [
    {
     "data": {
      "text/plain": [
       "('!', 'i', 'g')"
      ]
     },
     "execution_count": 32,
     "metadata": {},
     "output_type": "execute_result"
    }
   ],
   "source": [
    "say[-1], say[-2], say[-3]"
   ]
  },
  {
   "cell_type": "code",
   "execution_count": 33,
   "id": "ae7186f3-bf98-4c02-8389-e356b3e5e953",
   "metadata": {},
   "outputs": [
    {
     "data": {
      "text/plain": [
       "'sela'"
      ]
     },
     "execution_count": 33,
     "metadata": {},
     "output_type": "execute_result"
    }
   ],
   "source": [
    "say[0:4]"
   ]
  },
  {
   "cell_type": "code",
   "execution_count": null,
   "id": "317aeb58-a940-4a1f-872e-520cb524e64c",
   "metadata": {},
   "outputs": [],
   "source": []
  },
  {
   "cell_type": "code",
   "execution_count": null,
   "id": "14f5c371-a0ab-439e-96cf-3e200618d87a",
   "metadata": {},
   "outputs": [],
   "source": []
  }
 ],
 "metadata": {
  "kernelspec": {
   "display_name": "Python 3 (ipykernel)",
   "language": "python",
   "name": "python3"
  },
  "language_info": {
   "codemirror_mode": {
    "name": "ipython",
    "version": 3
   },
   "file_extension": ".py",
   "mimetype": "text/x-python",
   "name": "python",
   "nbconvert_exporter": "python",
   "pygments_lexer": "ipython3",
   "version": "3.9.18"
  }
 },
 "nbformat": 4,
 "nbformat_minor": 5
}
